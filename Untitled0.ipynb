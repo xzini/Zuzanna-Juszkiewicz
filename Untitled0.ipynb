{
  "nbformat": 4,
  "nbformat_minor": 0,
  "metadata": {
    "colab": {
      "name": "Untitled0.ipynb",
      "provenance": [],
      "toc_visible": true,
      "authorship_tag": "ABX9TyOegzgpr8dG7OrHYIJoOik3",
      "include_colab_link": true
    },
    "kernelspec": {
      "name": "python3",
      "display_name": "Python 3"
    }
  },
  "cells": [
    {
      "cell_type": "markdown",
      "metadata": {
        "id": "view-in-github",
        "colab_type": "text"
      },
      "source": [
        "<a href=\"https://colab.research.google.com/github/xzini/Zuzanna-Juszkiewicz/blob/abc/Untitled0.ipynb\" target=\"_parent\"><img src=\"https://colab.research.google.com/assets/colab-badge.svg\" alt=\"Open In Colab\"/></a>"
      ]
    },
    {
      "cell_type": "markdown",
      "metadata": {
        "id": "LfXPMsbeP3UJ",
        "colab_type": "text"
      },
      "source": [
        "# Sieci"
      ]
    },
    {
      "cell_type": "markdown",
      "metadata": {
        "id": "hj1Kz4xzQFyx",
        "colab_type": "text"
      },
      "source": [
        "Operacje arytmetyczne"
      ]
    },
    {
      "cell_type": "code",
      "metadata": {
        "id": "5zth-XMoPw4j",
        "colab_type": "code",
        "colab": {}
      },
      "source": [
        "‒\tDodawanie \t+\n",
        "o\tx += 7 oznacza x = x+7\n",
        "‒\tOdejmowanie\t-\n",
        "‒\tMnożenie\t*\n",
        "‒\tDzielenie\t/\n",
        "‒\tModulo\t%\n",
        "‒\tPotęga\t\t**\n",
        "‒\tDzielenie bez reszty\t//\n"
      ],
      "execution_count": 0,
      "outputs": []
    },
    {
      "cell_type": "code",
      "metadata": {
        "id": "6QMSS8rcQin9",
        "colab_type": "code",
        "colab": {}
      },
      "source": [
        "x = 10\n",
        "x = x+5"
      ],
      "execution_count": 0,
      "outputs": []
    },
    {
      "cell_type": "code",
      "metadata": {
        "id": "fNIMibqVQpsd",
        "colab_type": "code",
        "colab": {
          "base_uri": "https://localhost:8080/",
          "height": 34
        },
        "outputId": "9707abb2-ce4a-4ae6-c4a2-d7a37c41cd78"
      },
      "source": [
        "print (x)\n"
      ],
      "execution_count": 2,
      "outputs": [
        {
          "output_type": "stream",
          "text": [
            "15\n"
          ],
          "name": "stdout"
        }
      ]
    },
    {
      "cell_type": "code",
      "metadata": {
        "id": "L2FPiDjzQ9GR",
        "colab_type": "code",
        "colab": {
          "base_uri": "https://localhost:8080/",
          "height": 34
        },
        "outputId": "b930419e-4ee9-433e-a9ca-dcde45eda362"
      },
      "source": [
        "y = 5\n",
        "y += 5\n",
        "print (y)\n"
      ],
      "execution_count": 3,
      "outputs": [
        {
          "output_type": "stream",
          "text": [
            "10\n"
          ],
          "name": "stdout"
        }
      ]
    },
    {
      "cell_type": "code",
      "metadata": {
        "id": "Awv7sYKIROt_",
        "colab_type": "code",
        "colab": {
          "base_uri": "https://localhost:8080/",
          "height": 34
        },
        "outputId": "e73cc9b5-c714-4c71-a89a-86204bcfa8e5"
      },
      "source": [
        "x = 4\n",
        "x = 10-3\n",
        "print(x)"
      ],
      "execution_count": 4,
      "outputs": [
        {
          "output_type": "stream",
          "text": [
            "7\n"
          ],
          "name": "stdout"
        }
      ]
    },
    {
      "cell_type": "code",
      "metadata": {
        "id": "Ygb8n0LbRkex",
        "colab_type": "code",
        "colab": {
          "base_uri": "https://localhost:8080/",
          "height": 34
        },
        "outputId": "732e5d55-4f84-4f22-dca6-2dd5d9e22b26"
      },
      "source": [
        "8/4\n"
      ],
      "execution_count": 5,
      "outputs": [
        {
          "output_type": "execute_result",
          "data": {
            "text/plain": [
              "2.0"
            ]
          },
          "metadata": {
            "tags": []
          },
          "execution_count": 5
        }
      ]
    },
    {
      "cell_type": "code",
      "metadata": {
        "id": "0aiN5Op9RudI",
        "colab_type": "code",
        "colab": {
          "base_uri": "https://localhost:8080/",
          "height": 34
        },
        "outputId": "aeff9f83-2482-4f81-be3d-7ddd4317f1a5"
      },
      "source": [
        "246*7"
      ],
      "execution_count": 6,
      "outputs": [
        {
          "output_type": "execute_result",
          "data": {
            "text/plain": [
              "1722"
            ]
          },
          "metadata": {
            "tags": []
          },
          "execution_count": 6
        }
      ]
    },
    {
      "cell_type": "code",
      "metadata": {
        "id": "Ou_xLwCBRzz-",
        "colab_type": "code",
        "colab": {
          "base_uri": "https://localhost:8080/",
          "height": 34
        },
        "outputId": "afc539cf-ad6c-4f6b-f56b-d5f99dd4a1bd"
      },
      "source": [
        "34**3\n"
      ],
      "execution_count": 7,
      "outputs": [
        {
          "output_type": "execute_result",
          "data": {
            "text/plain": [
              "39304"
            ]
          },
          "metadata": {
            "tags": []
          },
          "execution_count": 7
        }
      ]
    },
    {
      "cell_type": "code",
      "metadata": {
        "id": "4VQWM3lyR-c5",
        "colab_type": "code",
        "colab": {
          "base_uri": "https://localhost:8080/",
          "height": 34
        },
        "outputId": "d1a0746c-369f-4d1f-d044-a4fd7d400a16"
      },
      "source": [
        "3659//16\n"
      ],
      "execution_count": 8,
      "outputs": [
        {
          "output_type": "execute_result",
          "data": {
            "text/plain": [
              "228"
            ]
          },
          "metadata": {
            "tags": []
          },
          "execution_count": 8
        }
      ]
    },
    {
      "cell_type": "markdown",
      "metadata": {
        "id": "-_0Vhvm1Tfej",
        "colab_type": "text"
      },
      "source": [
        "Mnożenie ciągu znaków przez liczby jest możliwe.\n"
      ]
    },
    {
      "cell_type": "code",
      "metadata": {
        "id": "BrRAaaF5Svdg",
        "colab_type": "code",
        "colab": {
          "base_uri": "https://localhost:8080/",
          "height": 34
        },
        "outputId": "db59b1fb-0da6-4f4f-c3ff-cc8c7c0117cd"
      },
      "source": [
        "jablko = 4\n",
        "print(jablko * 5)"
      ],
      "execution_count": 14,
      "outputs": [
        {
          "output_type": "stream",
          "text": [
            "20\n"
          ],
          "name": "stdout"
        }
      ]
    },
    {
      "cell_type": "code",
      "metadata": {
        "id": "1x0BDeyLUUwh",
        "colab_type": "code",
        "colab": {
          "base_uri": "https://localhost:8080/",
          "height": 34
        },
        "outputId": "881707c7-670c-44c8-a712-2d33b7c9e055"
      },
      "source": [
        "sala1 = 3\n",
        "print (sala1)"
      ],
      "execution_count": 15,
      "outputs": [
        {
          "output_type": "stream",
          "text": [
            "3\n"
          ],
          "name": "stdout"
        }
      ]
    },
    {
      "cell_type": "code",
      "metadata": {
        "id": "EG8aIVPmUmGe",
        "colab_type": "code",
        "colab": {
          "base_uri": "https://localhost:8080/",
          "height": 163
        },
        "outputId": "1c11d9fe-0191-4991-a97b-e577b8855b0e"
      },
      "source": [
        "print(Sala)"
      ],
      "execution_count": 16,
      "outputs": [
        {
          "output_type": "error",
          "ename": "NameError",
          "evalue": "ignored",
          "traceback": [
            "\u001b[0;31m---------------------------------------------------------------------------\u001b[0m",
            "\u001b[0;31mNameError\u001b[0m                                 Traceback (most recent call last)",
            "\u001b[0;32m<ipython-input-16-bf01692fa3fd>\u001b[0m in \u001b[0;36m<module>\u001b[0;34m()\u001b[0m\n\u001b[0;32m----> 1\u001b[0;31m \u001b[0mprint\u001b[0m\u001b[0;34m(\u001b[0m\u001b[0mSala\u001b[0m\u001b[0;34m)\u001b[0m\u001b[0;34m\u001b[0m\u001b[0;34m\u001b[0m\u001b[0m\n\u001b[0m",
            "\u001b[0;31mNameError\u001b[0m: name 'Sala' is not defined"
          ]
        }
      ]
    },
    {
      "cell_type": "markdown",
      "metadata": {
        "id": "EwGtbRWrVT19",
        "colab_type": "text"
      },
      "source": [
        "**NAZWY ZMIENNYCH**\n",
        "‒\tMuszą zaczynać się od litery lub podkreślenia\n",
        "‒\tMogą zawierać litery, cyfry, podkreślenia (bez polskich znaków)\n",
        "‒\tWielkość znaków ma znaczenie\n",
        "‒\tPewne słowa są zarezerwowane np. do funkcji i metod  tych zarezerwowanych słów nie stosuje się do nazywania zmiennych\n",
        "‒\tNazwy zmiennych mają nieść znaczenie!\n"
      ]
    },
    {
      "cell_type": "code",
      "metadata": {
        "id": "-k9fXuR0XKOn",
        "colab_type": "code",
        "colab": {
          "base_uri": "https://localhost:8080/",
          "height": 34
        },
        "outputId": "f3bf0779-02c8-4c54-a49f-1625cb98105b"
      },
      "source": [
        "zal = True\n",
        "type(zal)"
      ],
      "execution_count": 17,
      "outputs": [
        {
          "output_type": "execute_result",
          "data": {
            "text/plain": [
              "bool"
            ]
          },
          "metadata": {
            "tags": []
          },
          "execution_count": 17
        }
      ]
    },
    {
      "cell_type": "code",
      "metadata": {
        "id": "z8vpzY79Xg8w",
        "colab_type": "code",
        "colab": {
          "base_uri": "https://localhost:8080/",
          "height": 34
        },
        "outputId": "1b9abb43-a74b-40e7-b32e-99043aad5bfc"
      },
      "source": [
        "3 == 3"
      ],
      "execution_count": 18,
      "outputs": [
        {
          "output_type": "execute_result",
          "data": {
            "text/plain": [
              "True"
            ]
          },
          "metadata": {
            "tags": []
          },
          "execution_count": 18
        }
      ]
    },
    {
      "cell_type": "code",
      "metadata": {
        "id": "58WC062FTYQv",
        "colab_type": "code",
        "colab": {
          "base_uri": "https://localhost:8080/",
          "height": 34
        },
        "outputId": "92d39ba7-049a-4475-ab94-94be5e14de32"
      },
      "source": [
        "3 == 5"
      ],
      "execution_count": 19,
      "outputs": [
        {
          "output_type": "execute_result",
          "data": {
            "text/plain": [
              "False"
            ]
          },
          "metadata": {
            "tags": []
          },
          "execution_count": 19
        }
      ]
    },
    {
      "cell_type": "code",
      "metadata": {
        "id": "hSvVoJKLXoUt",
        "colab_type": "code",
        "colab": {
          "base_uri": "https://localhost:8080/",
          "height": 34
        },
        "outputId": "3e924d04-af77-47cc-e8d5-74e81aa26a50"
      },
      "source": [
        "3 != 3"
      ],
      "execution_count": 20,
      "outputs": [
        {
          "output_type": "execute_result",
          "data": {
            "text/plain": [
              "False"
            ]
          },
          "metadata": {
            "tags": []
          },
          "execution_count": 20
        }
      ]
    },
    {
      "cell_type": "code",
      "metadata": {
        "id": "Hc02X0_ZXrUS",
        "colab_type": "code",
        "colab": {
          "base_uri": "https://localhost:8080/",
          "height": 34
        },
        "outputId": "3392ceaf-790d-45fa-de7e-0b4aad0b5ec8"
      },
      "source": [
        "\"jablko\" == \"jablko\""
      ],
      "execution_count": 21,
      "outputs": [
        {
          "output_type": "execute_result",
          "data": {
            "text/plain": [
              "True"
            ]
          },
          "metadata": {
            "tags": []
          },
          "execution_count": 21
        }
      ]
    },
    {
      "cell_type": "markdown",
      "metadata": {
        "id": "HifYoXuQYLQ_",
        "colab_type": "text"
      },
      "source": [
        "OPERACJE LOGICZNE\n",
        "‒\tporównanie ==\n",
        "‒\tmniejsze niż <\n",
        "‒\tmniejsze niż lub równe <=\n",
        "‒\tnierówne !=\n"
      ]
    },
    {
      "cell_type": "code",
      "metadata": {
        "id": "RO11e5XGZDKb",
        "colab_type": "code",
        "colab": {
          "base_uri": "https://localhost:8080/",
          "height": 34
        },
        "outputId": "79ec34a9-4183-4db8-babd-547dfbc66df8"
      },
      "source": [
        "len(\"zupa\")"
      ],
      "execution_count": 23,
      "outputs": [
        {
          "output_type": "execute_result",
          "data": {
            "text/plain": [
              "4"
            ]
          },
          "metadata": {
            "tags": []
          },
          "execution_count": 23
        }
      ]
    },
    {
      "cell_type": "code",
      "metadata": {
        "id": "KMiDw1F8XzlJ",
        "colab_type": "code",
        "colab": {
          "base_uri": "https://localhost:8080/",
          "height": 34
        },
        "outputId": "305471e4-ad65-4fb9-b2c7-00cb5c921f4b"
      },
      "source": [
        "\"zuza\" == \"iza\""
      ],
      "execution_count": 22,
      "outputs": [
        {
          "output_type": "execute_result",
          "data": {
            "text/plain": [
              "False"
            ]
          },
          "metadata": {
            "tags": []
          },
          "execution_count": 22
        }
      ]
    },
    {
      "cell_type": "markdown",
      "metadata": {
        "id": "uYFC9eyJZf3o",
        "colab_type": "text"
      },
      "source": [
        "Funkcja Len() podaje nam długość."
      ]
    }
  ]
}